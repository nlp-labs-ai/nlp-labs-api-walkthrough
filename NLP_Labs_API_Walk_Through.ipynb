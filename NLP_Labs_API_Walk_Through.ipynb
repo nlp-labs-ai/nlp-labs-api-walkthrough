{
  "nbformat": 4,
  "nbformat_minor": 0,
  "metadata": {
    "colab": {
      "provenance": [],
      "collapsed_sections": []
    },
    "kernelspec": {
      "name": "python3",
      "display_name": "Python 3"
    },
    "language_info": {
      "name": "python"
    }
  },
  "cells": [
    {
      "cell_type": "markdown",
      "source": [
        "# Introduction\n",
        "\n",
        "Hello and welcome to this NLP Labs API walkthrough notebook! The NLP Labs API is built to auto-categorize text data in a customized manner. We'll walk through how to perform two types of text categorization tasks:\n",
        "\n",
        "* Text Classification\n",
        "* Named Entity Recognition\n",
        "\n",
        "In each of these tasks we make an API request where we send a dataset of Disneyland reviews and the custom labels. The output will be a downloadable CSV with each input text tagged with one of the specified custom labels.\n",
        "\n",
        "Behind the scenes, we host models called zero-shot models that allow you to tag text data however you want without actually creating a dataset yourself.\n",
        "\n",
        "Pretty cool huh?"
      ],
      "metadata": {
        "id": "u1soTVqriYuu"
      }
    },
    {
      "cell_type": "markdown",
      "source": [
        "# Documentation of API endpoints\n",
        "\n",
        "[Swagger Docs](https://anishpdalal-nlp-labs-api-fastapi-app.modal.run/docs)"
      ],
      "metadata": {
        "id": "-1Lzq-pTiLZQ"
      }
    },
    {
      "cell_type": "markdown",
      "source": [
        "# Setup"
      ],
      "metadata": {
        "id": "-n80v5ujgFgA"
      }
    },
    {
      "cell_type": "code",
      "execution_count": null,
      "metadata": {
        "id": "A8rkoDT5ZPwF"
      },
      "outputs": [],
      "source": [
        "# Import dependencies\n",
        "import pandas as pd\n",
        "import requests\n",
        "from io import StringIO"
      ]
    },
    {
      "cell_type": "code",
      "source": [
        "# Download sample dataset\n",
        "!wget https://raw.githubusercontent.com/nlp-labs-ai/nlp-labs-api-walkthrough/main/sample.csv"
      ],
      "metadata": {
        "colab": {
          "base_uri": "https://localhost:8080/"
        },
        "id": "XU-giJ3Tf9q3",
        "outputId": "c983f46d-9e76-4bec-e8d7-ba0e3a5dafce"
      },
      "execution_count": null,
      "outputs": [
        {
          "output_type": "stream",
          "name": "stdout",
          "text": [
            "--2022-10-13 02:19:48--  https://raw.githubusercontent.com/nlp-labs-ai/nlp-labs-api-walkthrough/main/sample.csv\n",
            "Resolving raw.githubusercontent.com (raw.githubusercontent.com)... 185.199.108.133, 185.199.111.133, 185.199.110.133, ...\n",
            "Connecting to raw.githubusercontent.com (raw.githubusercontent.com)|185.199.108.133|:443... connected.\n",
            "HTTP request sent, awaiting response... 200 OK\n",
            "Length: 768345 (750K) [text/plain]\n",
            "Saving to: ‘sample.csv’\n",
            "\n",
            "sample.csv          100%[===================>] 750.34K  --.-KB/s    in 0.04s   \n",
            "\n",
            "2022-10-13 02:19:48 (16.6 MB/s) - ‘sample.csv’ saved [768345/768345]\n",
            "\n"
          ]
        }
      ]
    },
    {
      "cell_type": "markdown",
      "source": [
        "Notice that we have the following columns:\n",
        "* Review_ID - unique identifier of the Review\n",
        "* Rating - Rating on scale of 1-5 the customer gave\n",
        "* Year_Month - Review date\n",
        "* Review_Location - Country of Reviewer\n",
        "* **Review_Text** - actual review (this is the text data we want to categorize)\n",
        "* Branch - Disneyland location"
      ],
      "metadata": {
        "id": "ADQuDZuomJZx"
      }
    },
    {
      "cell_type": "code",
      "source": [
        "!head -5 sample.csv"
      ],
      "metadata": {
        "colab": {
          "base_uri": "https://localhost:8080/"
        },
        "id": "JGwbb7szmADY",
        "outputId": "98a21c8e-e734-485b-84a3-0275d358423c"
      },
      "execution_count": null,
      "outputs": [
        {
          "output_type": "stream",
          "name": "stdout",
          "text": [
            "Review_ID,Rating,Year_Month,Reviewer_Location,Review_Text,Branch\n",
            "279977484,3,2015-6,United Kingdom,\"As a family we left a little disappointed by our visit to DLP. The atmosphere in the park is brought down by rude people who think nothing of pushing in front of others in queues and smoking wherever they want. There also seemed to be a lot of construction work going on around the park and a few of the rides were shut. I have visited Disney World in Florida several times and have never encountered any of these problems there.On a positive note some of the rides were very good such as Thunder mountain, small world and Pirates of the Carribean. If you have younger children DLP is also more manageable to get round as its a much smaller park than Florida. Overall we managed to enjoy our holiday but think we will save for Florida next time.\",Disneyland_Paris\n",
            "182524324,5,2013-6,United States,\"It truly IS the funnest place on earth!!! We had the chance to take our daughter and kids to Disneyland and it was their very first time to go! What fun they had...and ALL the way home, that was ALL they could talk about!!!! It is so nice to be able to see Disneyland thru the eyes of a child again!!!! We ALL had a great time!!!\",Disneyland_California\n",
            "603684918,4,2017-12,United States,\"We took the bus from Shenzhen to get there (give yourself time   the trip can take a while). We were there in December, so the crowds weren't too bad. Best rides to go on: Hyperspace Mountain (like Space Mountain in the US, but Star Wars themed), Mystic Manor (the Hong Kong answer to the Haunted Mansion), and Big Grizzly Mountain   truly the best surprise of the three! One pet peeve: as a US citizen there, I was sad that all the popcorn was sweet rather than salty. I would've loved some butter and salt popcorn while I was there.\",Disneyland_HongKong\n",
            "278627765,5,2014-10,United States,I always love Disneyland. Best Rides and atmosphere ever! We could easily spend several days here alone!,Disneyland_California\n"
          ]
        }
      ]
    },
    {
      "cell_type": "markdown",
      "source": [
        "# Upload Text to NLP Labs API"
      ],
      "metadata": {
        "id": "pgtR5ihNleYP"
      }
    },
    {
      "cell_type": "code",
      "source": [
        "API_KEY = \"<Your API Key Here>\"\n",
        "API_URL = \"https://anishpdalal-nlp-labs-api-fastapi-app.modal.run\""
      ],
      "metadata": {
        "id": "HR7qJdtjlh6Q"
      },
      "execution_count": null,
      "outputs": []
    },
    {
      "cell_type": "code",
      "source": [
        "upload_response = requests.post(\n",
        "    f\"{API_URL}/uploads\",\n",
        "    headers={\"X-Api-Key\": API_KEY, \"Accept\": \"application/json\"},\n",
        "    files={\"file\": open(\"sample.csv\", \"rb\")}\n",
        ").json()"
      ],
      "metadata": {
        "id": "ifdrphzNBj7b"
      },
      "execution_count": null,
      "outputs": []
    },
    {
      "cell_type": "code",
      "source": [
        "upload_response"
      ],
      "metadata": {
        "colab": {
          "base_uri": "https://localhost:8080/"
        },
        "id": "AypUAwsQDtYh",
        "outputId": "7de1bf8f-9710-453e-a7bd-629f97a1f416"
      },
      "execution_count": null,
      "outputs": [
        {
          "output_type": "execute_result",
          "data": {
            "text/plain": [
              "{'id': 'bb86a83c-f48b-44ef-b566-beda066d60b3', 'name': 'sample.csv'}"
            ]
          },
          "metadata": {},
          "execution_count": 6
        }
      ]
    },
    {
      "cell_type": "markdown",
      "source": [
        "# Text Classification"
      ],
      "metadata": {
        "id": "T6fPonhxD_aI"
      }
    },
    {
      "cell_type": "code",
      "source": [
        "request_body = {\n",
        "  \"upload_id\": upload_response[\"id\"],\n",
        "  \"text_column\": \"Review_Text\",\n",
        "  \"name\": \"Disney_Land_Reviews_Classification\",\n",
        "  \"type\": \"classification\",\n",
        "  \"categories\": [\"food\", \"rides\", \"lines\", \"pricing\"]\n",
        "}"
      ],
      "metadata": {
        "id": "1ILJcJj1FCCu"
      },
      "execution_count": null,
      "outputs": []
    },
    {
      "cell_type": "code",
      "source": [
        "dataset_response = requests.post(\n",
        "    f\"{API_URL}/datasets\",\n",
        "    headers={\"X-Api-Key\": API_KEY, \"Accept\": \"application/json\"},\n",
        "    json=request_body\n",
        ").json()"
      ],
      "metadata": {
        "id": "4uj8GmS8Ewfb"
      },
      "execution_count": null,
      "outputs": []
    },
    {
      "cell_type": "code",
      "source": [
        "dataset_response"
      ],
      "metadata": {
        "colab": {
          "base_uri": "https://localhost:8080/"
        },
        "id": "sZD5UIjaGQ8E",
        "outputId": "e270019d-7a8e-44d5-a331-6307626e0058"
      },
      "execution_count": null,
      "outputs": [
        {
          "output_type": "execute_result",
          "data": {
            "text/plain": [
              "{'id': '91eacaa7-5858-4215-8a01-a685f7507056',\n",
              " 'upload_id': 'bb86a83c-f48b-44ef-b566-beda066d60b3',\n",
              " 'name': 'Disney_Land_Reviews_Classification',\n",
              " 'type': 'classification',\n",
              " 'created': '2022-10-13 02:20:08'}"
            ]
          },
          "metadata": {},
          "execution_count": 9
        }
      ]
    },
    {
      "cell_type": "markdown",
      "source": [
        "Let's poll the dataset to see how far along the classification task is"
      ],
      "metadata": {
        "id": "fh1q5kxtHfpo"
      }
    },
    {
      "cell_type": "code",
      "source": [
        "dataset_status_response = requests.get(\n",
        "    f\"{API_URL}/datasets/{dataset_response['id']}/status\",\n",
        "    headers={\"X-Api-Key\": API_KEY, \"Accept\": \"application/json\"},\n",
        "    json=request_body\n",
        ").json()"
      ],
      "metadata": {
        "id": "IlGddb77GOJX"
      },
      "execution_count": null,
      "outputs": []
    },
    {
      "cell_type": "markdown",
      "source": [
        "There are two types of statuses: PENDING and COMPLETE\n",
        "\n",
        "Progress is a percentage of the total dataset that has been processed"
      ],
      "metadata": {
        "id": "qIqpxR0pHrjG"
      }
    },
    {
      "cell_type": "code",
      "source": [
        "import time\n",
        "\n",
        "status = \"PENDING\"\n",
        "while status == \"PENDING\":\n",
        "  dataset_status_response = requests.get(\n",
        "    f\"{API_URL}/datasets/{dataset_response['id']}/status\",\n",
        "    headers={\"X-Api-Key\": API_KEY, \"Accept\": \"application/json\"},\n",
        "    json=request_body\n",
        "  ).json()\n",
        "  print(dataset_status_response)\n",
        "  status = dataset_status_response[\"status\"]\n",
        "  time.sleep(5)"
      ],
      "metadata": {
        "colab": {
          "base_uri": "https://localhost:8080/"
        },
        "id": "-NYlx0W0G6cl",
        "outputId": "ccc9ca3e-8a17-41f0-a5ce-170eff9f1589"
      },
      "execution_count": null,
      "outputs": [
        {
          "output_type": "stream",
          "name": "stdout",
          "text": [
            "{'status': 'PENDING', 'progress': 80}\n",
            "{'status': 'PENDING', 'progress': 90}\n",
            "{'status': 'PENDING', 'progress': 90}\n",
            "{'status': 'COMPLETE', 'progress': 100}\n"
          ]
        }
      ]
    },
    {
      "cell_type": "markdown",
      "source": [
        "Awesome! Looks like our results are ready for download. The results are downloadable as a CSV file object."
      ],
      "metadata": {
        "id": "tc3brhSAIARc"
      }
    },
    {
      "cell_type": "code",
      "source": [
        "download_response = requests.get(\n",
        "    f\"{API_URL}/datasets/{dataset_response['id']}/download\",\n",
        "    headers={\"X-Api-Key\": API_KEY}\n",
        ")\n",
        "results_io = StringIO(download_response.content.decode(\"utf-8\"))"
      ],
      "metadata": {
        "id": "mtYMi7G4JrRC"
      },
      "execution_count": null,
      "outputs": []
    },
    {
      "cell_type": "markdown",
      "source": [
        "Let's now load the results into a Pandas dataframe to inspect them"
      ],
      "metadata": {
        "id": "prdzE-5SLC5L"
      }
    },
    {
      "cell_type": "code",
      "source": [
        "results_df = pd.read_csv(results_io)"
      ],
      "metadata": {
        "id": "UHV68oEMLHzk"
      },
      "execution_count": null,
      "outputs": []
    },
    {
      "cell_type": "markdown",
      "source": [
        "The results have the following columns:\n",
        "* id - the corresponds to the index of the input row. So the first row of data (excluding column headers) in the input CSV file corresponds to `id=0`\n",
        "* label - assigned label pulled from the list of custom labels\n",
        "* score - how confident the classifier is on a scale of 0 - 1."
      ],
      "metadata": {
        "id": "EipOA8FRLT6h"
      }
    },
    {
      "cell_type": "code",
      "source": [
        "results_df.head()"
      ],
      "metadata": {
        "colab": {
          "base_uri": "https://localhost:8080/",
          "height": 206
        },
        "id": "yudSe_IrLOEk",
        "outputId": "c225cb76-fbf3-4521-c385-0305c370abbe"
      },
      "execution_count": null,
      "outputs": [
        {
          "output_type": "execute_result",
          "data": {
            "text/plain": [
              "   id  label     score\n",
              "0   0  lines  0.421821\n",
              "1   1  rides  0.407061\n",
              "2   2  rides  0.461304\n",
              "3   3  rides  0.948876\n",
              "4   4  rides  0.513835"
            ],
            "text/html": [
              "\n",
              "  <div id=\"df-b181f3c6-50c3-4a2e-93fa-a94c9c267532\">\n",
              "    <div class=\"colab-df-container\">\n",
              "      <div>\n",
              "<style scoped>\n",
              "    .dataframe tbody tr th:only-of-type {\n",
              "        vertical-align: middle;\n",
              "    }\n",
              "\n",
              "    .dataframe tbody tr th {\n",
              "        vertical-align: top;\n",
              "    }\n",
              "\n",
              "    .dataframe thead th {\n",
              "        text-align: right;\n",
              "    }\n",
              "</style>\n",
              "<table border=\"1\" class=\"dataframe\">\n",
              "  <thead>\n",
              "    <tr style=\"text-align: right;\">\n",
              "      <th></th>\n",
              "      <th>id</th>\n",
              "      <th>label</th>\n",
              "      <th>score</th>\n",
              "    </tr>\n",
              "  </thead>\n",
              "  <tbody>\n",
              "    <tr>\n",
              "      <th>0</th>\n",
              "      <td>0</td>\n",
              "      <td>lines</td>\n",
              "      <td>0.421821</td>\n",
              "    </tr>\n",
              "    <tr>\n",
              "      <th>1</th>\n",
              "      <td>1</td>\n",
              "      <td>rides</td>\n",
              "      <td>0.407061</td>\n",
              "    </tr>\n",
              "    <tr>\n",
              "      <th>2</th>\n",
              "      <td>2</td>\n",
              "      <td>rides</td>\n",
              "      <td>0.461304</td>\n",
              "    </tr>\n",
              "    <tr>\n",
              "      <th>3</th>\n",
              "      <td>3</td>\n",
              "      <td>rides</td>\n",
              "      <td>0.948876</td>\n",
              "    </tr>\n",
              "    <tr>\n",
              "      <th>4</th>\n",
              "      <td>4</td>\n",
              "      <td>rides</td>\n",
              "      <td>0.513835</td>\n",
              "    </tr>\n",
              "  </tbody>\n",
              "</table>\n",
              "</div>\n",
              "      <button class=\"colab-df-convert\" onclick=\"convertToInteractive('df-b181f3c6-50c3-4a2e-93fa-a94c9c267532')\"\n",
              "              title=\"Convert this dataframe to an interactive table.\"\n",
              "              style=\"display:none;\">\n",
              "        \n",
              "  <svg xmlns=\"http://www.w3.org/2000/svg\" height=\"24px\"viewBox=\"0 0 24 24\"\n",
              "       width=\"24px\">\n",
              "    <path d=\"M0 0h24v24H0V0z\" fill=\"none\"/>\n",
              "    <path d=\"M18.56 5.44l.94 2.06.94-2.06 2.06-.94-2.06-.94-.94-2.06-.94 2.06-2.06.94zm-11 1L8.5 8.5l.94-2.06 2.06-.94-2.06-.94L8.5 2.5l-.94 2.06-2.06.94zm10 10l.94 2.06.94-2.06 2.06-.94-2.06-.94-.94-2.06-.94 2.06-2.06.94z\"/><path d=\"M17.41 7.96l-1.37-1.37c-.4-.4-.92-.59-1.43-.59-.52 0-1.04.2-1.43.59L10.3 9.45l-7.72 7.72c-.78.78-.78 2.05 0 2.83L4 21.41c.39.39.9.59 1.41.59.51 0 1.02-.2 1.41-.59l7.78-7.78 2.81-2.81c.8-.78.8-2.07 0-2.86zM5.41 20L4 18.59l7.72-7.72 1.47 1.35L5.41 20z\"/>\n",
              "  </svg>\n",
              "      </button>\n",
              "      \n",
              "  <style>\n",
              "    .colab-df-container {\n",
              "      display:flex;\n",
              "      flex-wrap:wrap;\n",
              "      gap: 12px;\n",
              "    }\n",
              "\n",
              "    .colab-df-convert {\n",
              "      background-color: #E8F0FE;\n",
              "      border: none;\n",
              "      border-radius: 50%;\n",
              "      cursor: pointer;\n",
              "      display: none;\n",
              "      fill: #1967D2;\n",
              "      height: 32px;\n",
              "      padding: 0 0 0 0;\n",
              "      width: 32px;\n",
              "    }\n",
              "\n",
              "    .colab-df-convert:hover {\n",
              "      background-color: #E2EBFA;\n",
              "      box-shadow: 0px 1px 2px rgba(60, 64, 67, 0.3), 0px 1px 3px 1px rgba(60, 64, 67, 0.15);\n",
              "      fill: #174EA6;\n",
              "    }\n",
              "\n",
              "    [theme=dark] .colab-df-convert {\n",
              "      background-color: #3B4455;\n",
              "      fill: #D2E3FC;\n",
              "    }\n",
              "\n",
              "    [theme=dark] .colab-df-convert:hover {\n",
              "      background-color: #434B5C;\n",
              "      box-shadow: 0px 1px 3px 1px rgba(0, 0, 0, 0.15);\n",
              "      filter: drop-shadow(0px 1px 2px rgba(0, 0, 0, 0.3));\n",
              "      fill: #FFFFFF;\n",
              "    }\n",
              "  </style>\n",
              "\n",
              "      <script>\n",
              "        const buttonEl =\n",
              "          document.querySelector('#df-b181f3c6-50c3-4a2e-93fa-a94c9c267532 button.colab-df-convert');\n",
              "        buttonEl.style.display =\n",
              "          google.colab.kernel.accessAllowed ? 'block' : 'none';\n",
              "\n",
              "        async function convertToInteractive(key) {\n",
              "          const element = document.querySelector('#df-b181f3c6-50c3-4a2e-93fa-a94c9c267532');\n",
              "          const dataTable =\n",
              "            await google.colab.kernel.invokeFunction('convertToInteractive',\n",
              "                                                     [key], {});\n",
              "          if (!dataTable) return;\n",
              "\n",
              "          const docLinkHtml = 'Like what you see? Visit the ' +\n",
              "            '<a target=\"_blank\" href=https://colab.research.google.com/notebooks/data_table.ipynb>data table notebook</a>'\n",
              "            + ' to learn more about interactive tables.';\n",
              "          element.innerHTML = '';\n",
              "          dataTable['output_type'] = 'display_data';\n",
              "          await google.colab.output.renderOutput(dataTable, element);\n",
              "          const docLink = document.createElement('div');\n",
              "          docLink.innerHTML = docLinkHtml;\n",
              "          element.appendChild(docLink);\n",
              "        }\n",
              "      </script>\n",
              "    </div>\n",
              "  </div>\n",
              "  "
            ]
          },
          "metadata": {},
          "execution_count": 15
        }
      ]
    },
    {
      "cell_type": "markdown",
      "source": [
        "## Celebrate"
      ],
      "metadata": {
        "id": "uiG0SDESSLm0"
      }
    },
    {
      "cell_type": "markdown",
      "source": [
        "🙌\n",
        "\n",
        "Now that we have our results the fun part begins! All of the interesting questions you have about the reviews are now possible to ask because the reviews are now structured thanks to the auto classification! \n",
        "\n",
        "This is the value of the NLP Labs API. Without auto categorization it would be too time consuming and impractical to manually label this dataset just ask to ask a few questions.\n",
        "\n",
        "But maybe those questions could lead to business altering insights! Now it's practical to ask a lot of questions against text data because the API removes the need to manually label and makes text analytics 100x faster!"
      ],
      "metadata": {
        "id": "BPtq9NF_NMAU"
      }
    },
    {
      "cell_type": "markdown",
      "source": [
        "# Asking Questions of your new and improved dataset\n",
        "\n",
        "One easy way to ask questions is to join `results_df` with the original dataset \n",
        "\n"
      ],
      "metadata": {
        "id": "ES3PXt-eSQI6"
      }
    },
    {
      "cell_type": "code",
      "source": [
        "sample_df = pd.read_csv(\"sample.csv\")\n",
        "merged_df = pd.merge(sample_df, results_df, left_index=True, right_on=\"id\").drop(columns=[\"id\"])"
      ],
      "metadata": {
        "id": "ZEAUOyLxLO7k"
      },
      "execution_count": null,
      "outputs": []
    },
    {
      "cell_type": "code",
      "source": [
        "merged_df.head()"
      ],
      "metadata": {
        "colab": {
          "base_uri": "https://localhost:8080/",
          "height": 206
        },
        "id": "y811LuobUGLN",
        "outputId": "fc417b12-74e0-4d5f-8842-7df2bb9029fa"
      },
      "execution_count": null,
      "outputs": [
        {
          "output_type": "execute_result",
          "data": {
            "text/plain": [
              "   Review_ID  Rating Year_Month Reviewer_Location  \\\n",
              "0  279977484       3     2015-6    United Kingdom   \n",
              "1  182524324       5     2013-6     United States   \n",
              "2  603684918       4    2017-12     United States   \n",
              "3  278627765       5    2014-10     United States   \n",
              "4  193829431       3     2014-2            Panama   \n",
              "\n",
              "                                         Review_Text                 Branch  \\\n",
              "0  As a family we left a little disappointed by o...       Disneyland_Paris   \n",
              "1  It truly IS the funnest place on earth!!! We h...  Disneyland_California   \n",
              "2  We took the bus from Shenzhen to get there (gi...    Disneyland_HongKong   \n",
              "3  I always love Disneyland. Best Rides and atmos...  Disneyland_California   \n",
              "4  It was nice to be at the original park created...  Disneyland_California   \n",
              "\n",
              "   label     score  \n",
              "0  lines  0.421821  \n",
              "1  rides  0.407061  \n",
              "2  rides  0.461304  \n",
              "3  rides  0.948876  \n",
              "4  rides  0.513835  "
            ],
            "text/html": [
              "\n",
              "  <div id=\"df-79d584da-dca1-4b37-ad01-42a3a2045e6d\">\n",
              "    <div class=\"colab-df-container\">\n",
              "      <div>\n",
              "<style scoped>\n",
              "    .dataframe tbody tr th:only-of-type {\n",
              "        vertical-align: middle;\n",
              "    }\n",
              "\n",
              "    .dataframe tbody tr th {\n",
              "        vertical-align: top;\n",
              "    }\n",
              "\n",
              "    .dataframe thead th {\n",
              "        text-align: right;\n",
              "    }\n",
              "</style>\n",
              "<table border=\"1\" class=\"dataframe\">\n",
              "  <thead>\n",
              "    <tr style=\"text-align: right;\">\n",
              "      <th></th>\n",
              "      <th>Review_ID</th>\n",
              "      <th>Rating</th>\n",
              "      <th>Year_Month</th>\n",
              "      <th>Reviewer_Location</th>\n",
              "      <th>Review_Text</th>\n",
              "      <th>Branch</th>\n",
              "      <th>label</th>\n",
              "      <th>score</th>\n",
              "    </tr>\n",
              "  </thead>\n",
              "  <tbody>\n",
              "    <tr>\n",
              "      <th>0</th>\n",
              "      <td>279977484</td>\n",
              "      <td>3</td>\n",
              "      <td>2015-6</td>\n",
              "      <td>United Kingdom</td>\n",
              "      <td>As a family we left a little disappointed by o...</td>\n",
              "      <td>Disneyland_Paris</td>\n",
              "      <td>lines</td>\n",
              "      <td>0.421821</td>\n",
              "    </tr>\n",
              "    <tr>\n",
              "      <th>1</th>\n",
              "      <td>182524324</td>\n",
              "      <td>5</td>\n",
              "      <td>2013-6</td>\n",
              "      <td>United States</td>\n",
              "      <td>It truly IS the funnest place on earth!!! We h...</td>\n",
              "      <td>Disneyland_California</td>\n",
              "      <td>rides</td>\n",
              "      <td>0.407061</td>\n",
              "    </tr>\n",
              "    <tr>\n",
              "      <th>2</th>\n",
              "      <td>603684918</td>\n",
              "      <td>4</td>\n",
              "      <td>2017-12</td>\n",
              "      <td>United States</td>\n",
              "      <td>We took the bus from Shenzhen to get there (gi...</td>\n",
              "      <td>Disneyland_HongKong</td>\n",
              "      <td>rides</td>\n",
              "      <td>0.461304</td>\n",
              "    </tr>\n",
              "    <tr>\n",
              "      <th>3</th>\n",
              "      <td>278627765</td>\n",
              "      <td>5</td>\n",
              "      <td>2014-10</td>\n",
              "      <td>United States</td>\n",
              "      <td>I always love Disneyland. Best Rides and atmos...</td>\n",
              "      <td>Disneyland_California</td>\n",
              "      <td>rides</td>\n",
              "      <td>0.948876</td>\n",
              "    </tr>\n",
              "    <tr>\n",
              "      <th>4</th>\n",
              "      <td>193829431</td>\n",
              "      <td>3</td>\n",
              "      <td>2014-2</td>\n",
              "      <td>Panama</td>\n",
              "      <td>It was nice to be at the original park created...</td>\n",
              "      <td>Disneyland_California</td>\n",
              "      <td>rides</td>\n",
              "      <td>0.513835</td>\n",
              "    </tr>\n",
              "  </tbody>\n",
              "</table>\n",
              "</div>\n",
              "      <button class=\"colab-df-convert\" onclick=\"convertToInteractive('df-79d584da-dca1-4b37-ad01-42a3a2045e6d')\"\n",
              "              title=\"Convert this dataframe to an interactive table.\"\n",
              "              style=\"display:none;\">\n",
              "        \n",
              "  <svg xmlns=\"http://www.w3.org/2000/svg\" height=\"24px\"viewBox=\"0 0 24 24\"\n",
              "       width=\"24px\">\n",
              "    <path d=\"M0 0h24v24H0V0z\" fill=\"none\"/>\n",
              "    <path d=\"M18.56 5.44l.94 2.06.94-2.06 2.06-.94-2.06-.94-.94-2.06-.94 2.06-2.06.94zm-11 1L8.5 8.5l.94-2.06 2.06-.94-2.06-.94L8.5 2.5l-.94 2.06-2.06.94zm10 10l.94 2.06.94-2.06 2.06-.94-2.06-.94-.94-2.06-.94 2.06-2.06.94z\"/><path d=\"M17.41 7.96l-1.37-1.37c-.4-.4-.92-.59-1.43-.59-.52 0-1.04.2-1.43.59L10.3 9.45l-7.72 7.72c-.78.78-.78 2.05 0 2.83L4 21.41c.39.39.9.59 1.41.59.51 0 1.02-.2 1.41-.59l7.78-7.78 2.81-2.81c.8-.78.8-2.07 0-2.86zM5.41 20L4 18.59l7.72-7.72 1.47 1.35L5.41 20z\"/>\n",
              "  </svg>\n",
              "      </button>\n",
              "      \n",
              "  <style>\n",
              "    .colab-df-container {\n",
              "      display:flex;\n",
              "      flex-wrap:wrap;\n",
              "      gap: 12px;\n",
              "    }\n",
              "\n",
              "    .colab-df-convert {\n",
              "      background-color: #E8F0FE;\n",
              "      border: none;\n",
              "      border-radius: 50%;\n",
              "      cursor: pointer;\n",
              "      display: none;\n",
              "      fill: #1967D2;\n",
              "      height: 32px;\n",
              "      padding: 0 0 0 0;\n",
              "      width: 32px;\n",
              "    }\n",
              "\n",
              "    .colab-df-convert:hover {\n",
              "      background-color: #E2EBFA;\n",
              "      box-shadow: 0px 1px 2px rgba(60, 64, 67, 0.3), 0px 1px 3px 1px rgba(60, 64, 67, 0.15);\n",
              "      fill: #174EA6;\n",
              "    }\n",
              "\n",
              "    [theme=dark] .colab-df-convert {\n",
              "      background-color: #3B4455;\n",
              "      fill: #D2E3FC;\n",
              "    }\n",
              "\n",
              "    [theme=dark] .colab-df-convert:hover {\n",
              "      background-color: #434B5C;\n",
              "      box-shadow: 0px 1px 3px 1px rgba(0, 0, 0, 0.15);\n",
              "      filter: drop-shadow(0px 1px 2px rgba(0, 0, 0, 0.3));\n",
              "      fill: #FFFFFF;\n",
              "    }\n",
              "  </style>\n",
              "\n",
              "      <script>\n",
              "        const buttonEl =\n",
              "          document.querySelector('#df-79d584da-dca1-4b37-ad01-42a3a2045e6d button.colab-df-convert');\n",
              "        buttonEl.style.display =\n",
              "          google.colab.kernel.accessAllowed ? 'block' : 'none';\n",
              "\n",
              "        async function convertToInteractive(key) {\n",
              "          const element = document.querySelector('#df-79d584da-dca1-4b37-ad01-42a3a2045e6d');\n",
              "          const dataTable =\n",
              "            await google.colab.kernel.invokeFunction('convertToInteractive',\n",
              "                                                     [key], {});\n",
              "          if (!dataTable) return;\n",
              "\n",
              "          const docLinkHtml = 'Like what you see? Visit the ' +\n",
              "            '<a target=\"_blank\" href=https://colab.research.google.com/notebooks/data_table.ipynb>data table notebook</a>'\n",
              "            + ' to learn more about interactive tables.';\n",
              "          element.innerHTML = '';\n",
              "          dataTable['output_type'] = 'display_data';\n",
              "          await google.colab.output.renderOutput(dataTable, element);\n",
              "          const docLink = document.createElement('div');\n",
              "          docLink.innerHTML = docLinkHtml;\n",
              "          element.appendChild(docLink);\n",
              "        }\n",
              "      </script>\n",
              "    </div>\n",
              "  </div>\n",
              "  "
            ]
          },
          "metadata": {},
          "execution_count": 17
        }
      ]
    },
    {
      "cell_type": "code",
      "source": [
        "# What is the breakdown of reviews by label where the model was confident\n",
        "merged_df[merged_df.score >= 0.5].groupby(\"label\")[\"Review_ID\"].count()"
      ],
      "metadata": {
        "colab": {
          "base_uri": "https://localhost:8080/"
        },
        "id": "WTq43SqrUL-R",
        "outputId": "a573aa9d-4863-4d05-d75f-fd419d3f0278"
      },
      "execution_count": null,
      "outputs": [
        {
          "output_type": "execute_result",
          "data": {
            "text/plain": [
              "label\n",
              "food        26\n",
              "lines       90\n",
              "pricing     28\n",
              "rides      182\n",
              "Name: Review_ID, dtype: int64"
            ]
          },
          "metadata": {},
          "execution_count": 18
        }
      ]
    },
    {
      "cell_type": "code",
      "source": [
        "# What is the breakdown of reviews for California branch by label where the model was confident.\n",
        "merged_df[(merged_df.score >= 0.5) & (merged_df.Branch == \"Disneyland_California\")].groupby(\"label\")[\"Review_ID\"].count()"
      ],
      "metadata": {
        "colab": {
          "base_uri": "https://localhost:8080/"
        },
        "id": "9SztILvpUmME",
        "outputId": "ef85cd3f-c04d-47d9-ea96-6139611c2d27"
      },
      "execution_count": null,
      "outputs": [
        {
          "output_type": "execute_result",
          "data": {
            "text/plain": [
              "label\n",
              "food       12\n",
              "lines      39\n",
              "pricing    14\n",
              "rides      92\n",
              "Name: Review_ID, dtype: int64"
            ]
          },
          "metadata": {},
          "execution_count": 19
        }
      ]
    },
    {
      "cell_type": "markdown",
      "source": [
        "Wouldn't it also be nice to know the overall sentiment broken down by label? There is a rating scale from 1-5 but people may have their own personal scales as to what constitutes a 1 or 3. Let's augment this dataset by doing another classification task this time by sentiment labels: `positive`, `neutral`, `negative` "
      ],
      "metadata": {
        "id": "HjSixy-ulsEx"
      }
    },
    {
      "cell_type": "code",
      "source": [
        "request_body = {\n",
        "  \"upload_id\": upload_response[\"id\"],\n",
        "  \"text_column\": \"Review_Text\",\n",
        "  \"name\": \"Disney_Land_Reviews_Sentiment\",\n",
        "  \"type\": \"classification\",\n",
        "  \"categories\": [\"positive\", \"neutral\", \"negative\"]\n",
        "}\n",
        "\n",
        "dataset_response = requests.post(\n",
        "    f\"{API_URL}/datasets\",\n",
        "    headers={\"X-Api-Key\": API_KEY, \"Accept\": \"application/json\"},\n",
        "    json=request_body\n",
        ").json()"
      ],
      "metadata": {
        "id": "bX85ngwTlhMR"
      },
      "execution_count": null,
      "outputs": []
    },
    {
      "cell_type": "code",
      "source": [
        "dataset_status_response = requests.get(\n",
        "    f\"{API_URL}/datasets/{dataset_response['id']}/status\",\n",
        "    headers={\"X-Api-Key\": API_KEY, \"Accept\": \"application/json\"},\n",
        "    json=request_body\n",
        ").json()"
      ],
      "metadata": {
        "id": "0pdb4K82nkxJ"
      },
      "execution_count": null,
      "outputs": []
    },
    {
      "cell_type": "code",
      "source": [
        "import time\n",
        "\n",
        "status = \"PENDING\"\n",
        "while status == \"PENDING\":\n",
        "  dataset_status_response = requests.get(\n",
        "    f\"{API_URL}/datasets/{dataset_response['id']}/status\",\n",
        "    headers={\"X-Api-Key\": API_KEY, \"Accept\": \"application/json\"},\n",
        "    json=request_body\n",
        "  ).json()\n",
        "  print(dataset_status_response)\n",
        "  status = dataset_status_response[\"status\"]\n",
        "  time.sleep(5)"
      ],
      "metadata": {
        "colab": {
          "base_uri": "https://localhost:8080/"
        },
        "id": "5AcDNwMsoBCV",
        "outputId": "f36b2b9b-6afd-4015-b1db-97d0f2d0d964"
      },
      "execution_count": null,
      "outputs": [
        {
          "output_type": "stream",
          "name": "stdout",
          "text": [
            "{'status': 'COMPLETE', 'progress': 100}\n"
          ]
        }
      ]
    },
    {
      "cell_type": "code",
      "source": [
        "download_response = requests.get(\n",
        "    f\"{API_URL}/datasets/{dataset_response['id']}/download\",\n",
        "    headers={\"X-Api-Key\": API_KEY}\n",
        ")\n",
        "results_io = StringIO(download_response.content.decode(\"utf-8\"))\n",
        "sentiment_df = pd.read_csv(results_io)"
      ],
      "metadata": {
        "id": "aPs6mARbnw8r"
      },
      "execution_count": null,
      "outputs": []
    },
    {
      "cell_type": "code",
      "source": [
        "sentiment_df.head()"
      ],
      "metadata": {
        "colab": {
          "base_uri": "https://localhost:8080/",
          "height": 206
        },
        "id": "ihxNalYtoTrv",
        "outputId": "d89fb71c-f5df-4633-b289-8c6821f3b03f"
      },
      "execution_count": null,
      "outputs": [
        {
          "output_type": "execute_result",
          "data": {
            "text/plain": [
              "   id     label     score\n",
              "0   0  negative  0.510492\n",
              "1   1  positive  0.915286\n",
              "2   2  negative  0.539722\n",
              "3   3  positive  0.953319\n",
              "4   4  negative  0.531893"
            ],
            "text/html": [
              "\n",
              "  <div id=\"df-8a491c76-4662-413e-9409-46d3854b23e2\">\n",
              "    <div class=\"colab-df-container\">\n",
              "      <div>\n",
              "<style scoped>\n",
              "    .dataframe tbody tr th:only-of-type {\n",
              "        vertical-align: middle;\n",
              "    }\n",
              "\n",
              "    .dataframe tbody tr th {\n",
              "        vertical-align: top;\n",
              "    }\n",
              "\n",
              "    .dataframe thead th {\n",
              "        text-align: right;\n",
              "    }\n",
              "</style>\n",
              "<table border=\"1\" class=\"dataframe\">\n",
              "  <thead>\n",
              "    <tr style=\"text-align: right;\">\n",
              "      <th></th>\n",
              "      <th>id</th>\n",
              "      <th>label</th>\n",
              "      <th>score</th>\n",
              "    </tr>\n",
              "  </thead>\n",
              "  <tbody>\n",
              "    <tr>\n",
              "      <th>0</th>\n",
              "      <td>0</td>\n",
              "      <td>negative</td>\n",
              "      <td>0.510492</td>\n",
              "    </tr>\n",
              "    <tr>\n",
              "      <th>1</th>\n",
              "      <td>1</td>\n",
              "      <td>positive</td>\n",
              "      <td>0.915286</td>\n",
              "    </tr>\n",
              "    <tr>\n",
              "      <th>2</th>\n",
              "      <td>2</td>\n",
              "      <td>negative</td>\n",
              "      <td>0.539722</td>\n",
              "    </tr>\n",
              "    <tr>\n",
              "      <th>3</th>\n",
              "      <td>3</td>\n",
              "      <td>positive</td>\n",
              "      <td>0.953319</td>\n",
              "    </tr>\n",
              "    <tr>\n",
              "      <th>4</th>\n",
              "      <td>4</td>\n",
              "      <td>negative</td>\n",
              "      <td>0.531893</td>\n",
              "    </tr>\n",
              "  </tbody>\n",
              "</table>\n",
              "</div>\n",
              "      <button class=\"colab-df-convert\" onclick=\"convertToInteractive('df-8a491c76-4662-413e-9409-46d3854b23e2')\"\n",
              "              title=\"Convert this dataframe to an interactive table.\"\n",
              "              style=\"display:none;\">\n",
              "        \n",
              "  <svg xmlns=\"http://www.w3.org/2000/svg\" height=\"24px\"viewBox=\"0 0 24 24\"\n",
              "       width=\"24px\">\n",
              "    <path d=\"M0 0h24v24H0V0z\" fill=\"none\"/>\n",
              "    <path d=\"M18.56 5.44l.94 2.06.94-2.06 2.06-.94-2.06-.94-.94-2.06-.94 2.06-2.06.94zm-11 1L8.5 8.5l.94-2.06 2.06-.94-2.06-.94L8.5 2.5l-.94 2.06-2.06.94zm10 10l.94 2.06.94-2.06 2.06-.94-2.06-.94-.94-2.06-.94 2.06-2.06.94z\"/><path d=\"M17.41 7.96l-1.37-1.37c-.4-.4-.92-.59-1.43-.59-.52 0-1.04.2-1.43.59L10.3 9.45l-7.72 7.72c-.78.78-.78 2.05 0 2.83L4 21.41c.39.39.9.59 1.41.59.51 0 1.02-.2 1.41-.59l7.78-7.78 2.81-2.81c.8-.78.8-2.07 0-2.86zM5.41 20L4 18.59l7.72-7.72 1.47 1.35L5.41 20z\"/>\n",
              "  </svg>\n",
              "      </button>\n",
              "      \n",
              "  <style>\n",
              "    .colab-df-container {\n",
              "      display:flex;\n",
              "      flex-wrap:wrap;\n",
              "      gap: 12px;\n",
              "    }\n",
              "\n",
              "    .colab-df-convert {\n",
              "      background-color: #E8F0FE;\n",
              "      border: none;\n",
              "      border-radius: 50%;\n",
              "      cursor: pointer;\n",
              "      display: none;\n",
              "      fill: #1967D2;\n",
              "      height: 32px;\n",
              "      padding: 0 0 0 0;\n",
              "      width: 32px;\n",
              "    }\n",
              "\n",
              "    .colab-df-convert:hover {\n",
              "      background-color: #E2EBFA;\n",
              "      box-shadow: 0px 1px 2px rgba(60, 64, 67, 0.3), 0px 1px 3px 1px rgba(60, 64, 67, 0.15);\n",
              "      fill: #174EA6;\n",
              "    }\n",
              "\n",
              "    [theme=dark] .colab-df-convert {\n",
              "      background-color: #3B4455;\n",
              "      fill: #D2E3FC;\n",
              "    }\n",
              "\n",
              "    [theme=dark] .colab-df-convert:hover {\n",
              "      background-color: #434B5C;\n",
              "      box-shadow: 0px 1px 3px 1px rgba(0, 0, 0, 0.15);\n",
              "      filter: drop-shadow(0px 1px 2px rgba(0, 0, 0, 0.3));\n",
              "      fill: #FFFFFF;\n",
              "    }\n",
              "  </style>\n",
              "\n",
              "      <script>\n",
              "        const buttonEl =\n",
              "          document.querySelector('#df-8a491c76-4662-413e-9409-46d3854b23e2 button.colab-df-convert');\n",
              "        buttonEl.style.display =\n",
              "          google.colab.kernel.accessAllowed ? 'block' : 'none';\n",
              "\n",
              "        async function convertToInteractive(key) {\n",
              "          const element = document.querySelector('#df-8a491c76-4662-413e-9409-46d3854b23e2');\n",
              "          const dataTable =\n",
              "            await google.colab.kernel.invokeFunction('convertToInteractive',\n",
              "                                                     [key], {});\n",
              "          if (!dataTable) return;\n",
              "\n",
              "          const docLinkHtml = 'Like what you see? Visit the ' +\n",
              "            '<a target=\"_blank\" href=https://colab.research.google.com/notebooks/data_table.ipynb>data table notebook</a>'\n",
              "            + ' to learn more about interactive tables.';\n",
              "          element.innerHTML = '';\n",
              "          dataTable['output_type'] = 'display_data';\n",
              "          await google.colab.output.renderOutput(dataTable, element);\n",
              "          const docLink = document.createElement('div');\n",
              "          docLink.innerHTML = docLinkHtml;\n",
              "          element.appendChild(docLink);\n",
              "        }\n",
              "      </script>\n",
              "    </div>\n",
              "  </div>\n",
              "  "
            ]
          },
          "metadata": {},
          "execution_count": 24
        }
      ]
    },
    {
      "cell_type": "code",
      "source": [
        "merged_df = pd.merge(merged_df, sentiment_df, left_index=True, right_on=\"id\").drop(columns=[\"id\"])"
      ],
      "metadata": {
        "id": "xNrUlAFJoVGN"
      },
      "execution_count": null,
      "outputs": []
    },
    {
      "cell_type": "code",
      "source": [
        "merged_df.rename(inplace=True, columns={\"label_x\": \"topic\", \"score_x\": \"topic_score\", \"label_y\": \"sentiment\", \"score_y\": \"sentiment_score\"})"
      ],
      "metadata": {
        "id": "vpYOHaWCoi-5"
      },
      "execution_count": null,
      "outputs": []
    },
    {
      "cell_type": "code",
      "source": [
        "merged_df.groupby([\"topic\", \"sentiment\"])[\"Review_ID\"].count()"
      ],
      "metadata": {
        "colab": {
          "base_uri": "https://localhost:8080/"
        },
        "id": "hqriIQstqfGF",
        "outputId": "b02de4b7-3c4e-4481-b2f9-29ba5034f273"
      },
      "execution_count": null,
      "outputs": [
        {
          "output_type": "execute_result",
          "data": {
            "text/plain": [
              "topic    sentiment\n",
              "food     negative      55\n",
              "         neutral        4\n",
              "         positive      80\n",
              "lines    negative      98\n",
              "         neutral        1\n",
              "         positive     191\n",
              "pricing  negative      47\n",
              "         neutral        5\n",
              "         positive      88\n",
              "rides    negative     104\n",
              "         neutral        5\n",
              "         positive     322\n",
              "Name: Review_ID, dtype: int64"
            ]
          },
          "metadata": {},
          "execution_count": 27
        }
      ]
    },
    {
      "cell_type": "markdown",
      "source": [
        "# Named Entity Recognition\n",
        "\n",
        "Using the NLP Labs API for NER is very similar to classification. In fact it only requires one line of code change: changing the `type` from `classification` to `entity_recognition`. Let's use this capability and extract locations, mascots, and attractions mentioned in the reviews."
      ],
      "metadata": {
        "id": "_QBQyg0SuQ6M"
      }
    },
    {
      "cell_type": "code",
      "source": [
        "request_body = {\n",
        "  \"upload_id\": upload_response[\"id\"],\n",
        "  \"text_column\": \"Review_Text\",\n",
        "  \"name\": \"Disney_Land_Reviews_NER\",\n",
        "  \"type\": \"entity_recognition\",\n",
        "  \"categories\": [\"location\", \"mascot\", \"attraction\"]\n",
        "}\n",
        "\n",
        "dataset_response = requests.post(\n",
        "    f\"{API_URL}/datasets\",\n",
        "    headers={\"X-Api-Key\": API_KEY, \"Accept\": \"application/json\"},\n",
        "    json=request_body\n",
        ").json()"
      ],
      "metadata": {
        "id": "9pD6uhYaJ9Qy"
      },
      "execution_count": null,
      "outputs": []
    },
    {
      "cell_type": "code",
      "source": [
        "import time\n",
        "\n",
        "status = \"PENDING\"\n",
        "while status == \"PENDING\":\n",
        "  dataset_status_response = requests.get(\n",
        "    f\"{API_URL}/datasets/{dataset_response['id']}/status\",\n",
        "    headers={\"X-Api-Key\": API_KEY, \"Accept\": \"application/json\"},\n",
        "    json=request_body\n",
        "  ).json()\n",
        "  print(dataset_status_response)\n",
        "  status = dataset_status_response[\"status\"]\n",
        "  time.sleep(5)"
      ],
      "metadata": {
        "colab": {
          "base_uri": "https://localhost:8080/"
        },
        "id": "2c2sKhPoK3zc",
        "outputId": "c41fab84-0be4-47f7-c0f1-a2db3892e97b"
      },
      "execution_count": null,
      "outputs": [
        {
          "output_type": "stream",
          "name": "stdout",
          "text": [
            "{'status': 'PENDING', 'progress': 0}\n",
            "{'status': 'PENDING', 'progress': 0}\n",
            "{'status': 'PENDING', 'progress': 0}\n",
            "{'status': 'PENDING', 'progress': 0}\n",
            "{'status': 'PENDING', 'progress': 0}\n",
            "{'status': 'PENDING', 'progress': 0}\n",
            "{'status': 'PENDING', 'progress': 10}\n",
            "{'status': 'PENDING', 'progress': 10}\n",
            "{'status': 'PENDING', 'progress': 10}\n",
            "{'status': 'PENDING', 'progress': 20}\n",
            "{'status': 'PENDING', 'progress': 20}\n",
            "{'status': 'PENDING', 'progress': 20}\n",
            "{'status': 'PENDING', 'progress': 30}\n",
            "{'status': 'PENDING', 'progress': 30}\n",
            "{'status': 'PENDING', 'progress': 30}\n",
            "{'status': 'PENDING', 'progress': 40}\n",
            "{'status': 'PENDING', 'progress': 40}\n",
            "{'status': 'PENDING', 'progress': 40}\n",
            "{'status': 'PENDING', 'progress': 40}\n",
            "{'status': 'PENDING', 'progress': 50}\n",
            "{'status': 'PENDING', 'progress': 50}\n",
            "{'status': 'PENDING', 'progress': 50}\n",
            "{'status': 'PENDING', 'progress': 70}\n",
            "{'status': 'PENDING', 'progress': 70}\n",
            "{'status': 'PENDING', 'progress': 80}\n",
            "{'status': 'COMPLETE', 'progress': 100}\n"
          ]
        }
      ]
    },
    {
      "cell_type": "code",
      "source": [
        "download_response = requests.get(\n",
        "    f\"{API_URL}/datasets/{dataset_response['id']}/download\",\n",
        "    headers={\"X-Api-Key\": API_KEY}\n",
        ")\n",
        "results_io = StringIO(download_response.content.decode(\"utf-8\"))\n",
        "ner_df = pd.read_csv(results_io)"
      ],
      "metadata": {
        "id": "YomHh1eJK7OM"
      },
      "execution_count": null,
      "outputs": []
    },
    {
      "cell_type": "code",
      "source": [
        "ner_df.head(10)"
      ],
      "metadata": {
        "colab": {
          "base_uri": "https://localhost:8080/",
          "height": 363
        },
        "id": "12pDAD_nL9O6",
        "outputId": "3f8b3edb-103d-4fae-ac0e-d9ef384b0d99"
      },
      "execution_count": null,
      "outputs": [
        {
          "output_type": "execute_result",
          "data": {
            "text/plain": [
              "   id                      text       label     score\n",
              "0   0                       DLP  attraction  0.981427\n",
              "1   0              Disney World    location  0.999901\n",
              "2   0                   Florida    location  0.999988\n",
              "3   0          Thunder mountain  attraction  0.998749\n",
              "4   0  Pirates of the Carribean      mascot  0.999953\n",
              "5   0                       DLP  attraction  0.980512\n",
              "6   0                   Florida    location  0.999992\n",
              "7   0                   Florida    location  0.999992\n",
              "8   1                Disneyland    location  0.999575\n",
              "9   1                Disneyland    location  0.999707"
            ],
            "text/html": [
              "\n",
              "  <div id=\"df-5ca73eb4-f5ff-42f6-9443-a176f91ec808\">\n",
              "    <div class=\"colab-df-container\">\n",
              "      <div>\n",
              "<style scoped>\n",
              "    .dataframe tbody tr th:only-of-type {\n",
              "        vertical-align: middle;\n",
              "    }\n",
              "\n",
              "    .dataframe tbody tr th {\n",
              "        vertical-align: top;\n",
              "    }\n",
              "\n",
              "    .dataframe thead th {\n",
              "        text-align: right;\n",
              "    }\n",
              "</style>\n",
              "<table border=\"1\" class=\"dataframe\">\n",
              "  <thead>\n",
              "    <tr style=\"text-align: right;\">\n",
              "      <th></th>\n",
              "      <th>id</th>\n",
              "      <th>text</th>\n",
              "      <th>label</th>\n",
              "      <th>score</th>\n",
              "    </tr>\n",
              "  </thead>\n",
              "  <tbody>\n",
              "    <tr>\n",
              "      <th>0</th>\n",
              "      <td>0</td>\n",
              "      <td>DLP</td>\n",
              "      <td>attraction</td>\n",
              "      <td>0.981427</td>\n",
              "    </tr>\n",
              "    <tr>\n",
              "      <th>1</th>\n",
              "      <td>0</td>\n",
              "      <td>Disney World</td>\n",
              "      <td>location</td>\n",
              "      <td>0.999901</td>\n",
              "    </tr>\n",
              "    <tr>\n",
              "      <th>2</th>\n",
              "      <td>0</td>\n",
              "      <td>Florida</td>\n",
              "      <td>location</td>\n",
              "      <td>0.999988</td>\n",
              "    </tr>\n",
              "    <tr>\n",
              "      <th>3</th>\n",
              "      <td>0</td>\n",
              "      <td>Thunder mountain</td>\n",
              "      <td>attraction</td>\n",
              "      <td>0.998749</td>\n",
              "    </tr>\n",
              "    <tr>\n",
              "      <th>4</th>\n",
              "      <td>0</td>\n",
              "      <td>Pirates of the Carribean</td>\n",
              "      <td>mascot</td>\n",
              "      <td>0.999953</td>\n",
              "    </tr>\n",
              "    <tr>\n",
              "      <th>5</th>\n",
              "      <td>0</td>\n",
              "      <td>DLP</td>\n",
              "      <td>attraction</td>\n",
              "      <td>0.980512</td>\n",
              "    </tr>\n",
              "    <tr>\n",
              "      <th>6</th>\n",
              "      <td>0</td>\n",
              "      <td>Florida</td>\n",
              "      <td>location</td>\n",
              "      <td>0.999992</td>\n",
              "    </tr>\n",
              "    <tr>\n",
              "      <th>7</th>\n",
              "      <td>0</td>\n",
              "      <td>Florida</td>\n",
              "      <td>location</td>\n",
              "      <td>0.999992</td>\n",
              "    </tr>\n",
              "    <tr>\n",
              "      <th>8</th>\n",
              "      <td>1</td>\n",
              "      <td>Disneyland</td>\n",
              "      <td>location</td>\n",
              "      <td>0.999575</td>\n",
              "    </tr>\n",
              "    <tr>\n",
              "      <th>9</th>\n",
              "      <td>1</td>\n",
              "      <td>Disneyland</td>\n",
              "      <td>location</td>\n",
              "      <td>0.999707</td>\n",
              "    </tr>\n",
              "  </tbody>\n",
              "</table>\n",
              "</div>\n",
              "      <button class=\"colab-df-convert\" onclick=\"convertToInteractive('df-5ca73eb4-f5ff-42f6-9443-a176f91ec808')\"\n",
              "              title=\"Convert this dataframe to an interactive table.\"\n",
              "              style=\"display:none;\">\n",
              "        \n",
              "  <svg xmlns=\"http://www.w3.org/2000/svg\" height=\"24px\"viewBox=\"0 0 24 24\"\n",
              "       width=\"24px\">\n",
              "    <path d=\"M0 0h24v24H0V0z\" fill=\"none\"/>\n",
              "    <path d=\"M18.56 5.44l.94 2.06.94-2.06 2.06-.94-2.06-.94-.94-2.06-.94 2.06-2.06.94zm-11 1L8.5 8.5l.94-2.06 2.06-.94-2.06-.94L8.5 2.5l-.94 2.06-2.06.94zm10 10l.94 2.06.94-2.06 2.06-.94-2.06-.94-.94-2.06-.94 2.06-2.06.94z\"/><path d=\"M17.41 7.96l-1.37-1.37c-.4-.4-.92-.59-1.43-.59-.52 0-1.04.2-1.43.59L10.3 9.45l-7.72 7.72c-.78.78-.78 2.05 0 2.83L4 21.41c.39.39.9.59 1.41.59.51 0 1.02-.2 1.41-.59l7.78-7.78 2.81-2.81c.8-.78.8-2.07 0-2.86zM5.41 20L4 18.59l7.72-7.72 1.47 1.35L5.41 20z\"/>\n",
              "  </svg>\n",
              "      </button>\n",
              "      \n",
              "  <style>\n",
              "    .colab-df-container {\n",
              "      display:flex;\n",
              "      flex-wrap:wrap;\n",
              "      gap: 12px;\n",
              "    }\n",
              "\n",
              "    .colab-df-convert {\n",
              "      background-color: #E8F0FE;\n",
              "      border: none;\n",
              "      border-radius: 50%;\n",
              "      cursor: pointer;\n",
              "      display: none;\n",
              "      fill: #1967D2;\n",
              "      height: 32px;\n",
              "      padding: 0 0 0 0;\n",
              "      width: 32px;\n",
              "    }\n",
              "\n",
              "    .colab-df-convert:hover {\n",
              "      background-color: #E2EBFA;\n",
              "      box-shadow: 0px 1px 2px rgba(60, 64, 67, 0.3), 0px 1px 3px 1px rgba(60, 64, 67, 0.15);\n",
              "      fill: #174EA6;\n",
              "    }\n",
              "\n",
              "    [theme=dark] .colab-df-convert {\n",
              "      background-color: #3B4455;\n",
              "      fill: #D2E3FC;\n",
              "    }\n",
              "\n",
              "    [theme=dark] .colab-df-convert:hover {\n",
              "      background-color: #434B5C;\n",
              "      box-shadow: 0px 1px 3px 1px rgba(0, 0, 0, 0.15);\n",
              "      filter: drop-shadow(0px 1px 2px rgba(0, 0, 0, 0.3));\n",
              "      fill: #FFFFFF;\n",
              "    }\n",
              "  </style>\n",
              "\n",
              "      <script>\n",
              "        const buttonEl =\n",
              "          document.querySelector('#df-5ca73eb4-f5ff-42f6-9443-a176f91ec808 button.colab-df-convert');\n",
              "        buttonEl.style.display =\n",
              "          google.colab.kernel.accessAllowed ? 'block' : 'none';\n",
              "\n",
              "        async function convertToInteractive(key) {\n",
              "          const element = document.querySelector('#df-5ca73eb4-f5ff-42f6-9443-a176f91ec808');\n",
              "          const dataTable =\n",
              "            await google.colab.kernel.invokeFunction('convertToInteractive',\n",
              "                                                     [key], {});\n",
              "          if (!dataTable) return;\n",
              "\n",
              "          const docLinkHtml = 'Like what you see? Visit the ' +\n",
              "            '<a target=\"_blank\" href=https://colab.research.google.com/notebooks/data_table.ipynb>data table notebook</a>'\n",
              "            + ' to learn more about interactive tables.';\n",
              "          element.innerHTML = '';\n",
              "          dataTable['output_type'] = 'display_data';\n",
              "          await google.colab.output.renderOutput(dataTable, element);\n",
              "          const docLink = document.createElement('div');\n",
              "          docLink.innerHTML = docLinkHtml;\n",
              "          element.appendChild(docLink);\n",
              "        }\n",
              "      </script>\n",
              "    </div>\n",
              "  </div>\n",
              "  "
            ]
          },
          "metadata": {},
          "execution_count": 32
        }
      ]
    },
    {
      "cell_type": "code",
      "source": [],
      "metadata": {
        "id": "u-CbHjRZL_Y7"
      },
      "execution_count": null,
      "outputs": []
    }
  ]
}